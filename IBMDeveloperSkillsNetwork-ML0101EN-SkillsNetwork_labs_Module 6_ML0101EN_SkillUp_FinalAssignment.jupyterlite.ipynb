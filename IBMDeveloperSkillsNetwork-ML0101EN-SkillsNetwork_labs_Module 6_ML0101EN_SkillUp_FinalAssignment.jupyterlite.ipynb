{
 "cells": [
  {
   "cell_type": "markdown",
   "metadata": {},
   "source": [
    "<p style=\"text-align:center\">\n",
    "    <a href=\"https://skills.network/?utm_medium=Exinfluencer&utm_source=Exinfluencer&utm_content=000026UJ&utm_term=10006555&utm_id=NA-SkillsNetwork-Channel-SkillsNetworkCoursesIBMDeveloperSkillsNetworkML0101ENSkillsNetwork20718538-2022-01-01\" target=\"_blank\">\n",
    "    <img src=\"https://cf-courses-data.s3.us.cloud-object-storage.appdomain.cloud/assets/logos/SN_web_lightmode.png\" width=\"200\" alt=\"Skills Network Logo\"  />\n",
    "    </a>\n",
    "</p>\n",
    "\n",
    "<h1 align=\"center\"><font size=\"5\">Final Project: Classification with Python</font></h1>\n"
   ]
  },
  {
   "cell_type": "markdown",
   "metadata": {},
   "source": [
    "<h2>Table of Contents</h2>\n",
    "<div class=\"alert alert-block alert-info\" style=\"margin-top: 20px\">\n",
    "    <ul>\n",
    "    <li><a href=\"https://#Section_1\">Instructions</a></li>\n",
    "    <li><a href=\"https://#Section_2\">About the Data</a></li>\n",
    "    <li><a href=\"https://#Section_3\">Importing Data </a></li>\n",
    "    <li><a href=\"https://#Section_4\">Data Preprocessing</a> </li>\n",
    "    <li><a href=\"https://#Section_5\">One Hot Encoding </a></li>\n",
    "    <li><a href=\"https://#Section_6\">Train and Test Data Split </a></li>\n",
    "    <li><a href=\"https://#Section_7\">Train Logistic Regression, KNN, Decision Tree, SVM, and Linear Regression models and return their appropriate accuracy scores</a></li>\n",
    "</a></li>\n",
    "</div>\n",
    "<p>Estimated Time Needed: <strong>180 min</strong></p>\n",
    "</div>\n",
    "\n",
    "<hr>\n"
   ]
  },
  {
   "cell_type": "markdown",
   "metadata": {},
   "source": [
    "# Instructions\n"
   ]
  },
  {
   "cell_type": "markdown",
   "metadata": {},
   "source": [
    "In this notebook, you will  practice all the classification algorithms that we have learned in this course.\n",
    "\n",
    "Below, is where we are going to use the classification algorithms to create a model based on our training data and evaluate our testing data using evaluation metrics learned in the course.\n",
    "\n",
    "We will use some of the algorithms taught in the course, specifically:\n",
    "\n",
    "1.  Linear Regression\n",
    "2.  KNN\n",
    "3.  Decision Trees\n",
    "4.  Logistic Regression\n",
    "5.  SVM\n",
    "\n",
    "We will evaluate our models using:\n",
    "\n",
    "1.  Accuracy Score\n",
    "2.  Jaccard Index\n",
    "3.  F1-Score\n",
    "4.  LogLoss\n",
    "5.  Mean Absolute Error\n",
    "6.  Mean Squared Error\n",
    "7.  R2-Score\n",
    "\n",
    "Finally, you will use your models to generate the report at the end.\n"
   ]
  },
  {
   "cell_type": "markdown",
   "metadata": {},
   "source": [
    "# About The Dataset\n"
   ]
  },
  {
   "cell_type": "markdown",
   "metadata": {},
   "source": [
    "The original source of the data is Australian Government's Bureau of Meteorology and the latest data can be gathered from [http://www.bom.gov.au/climate/dwo/](http://www.bom.gov.au/climate/dwo/?utm_medium=Exinfluencer&utm_source=Exinfluencer&utm_content=000026UJ&utm_term=10006555&utm_id=NA-SkillsNetwork-Channel-SkillsNetworkCoursesIBMDeveloperSkillsNetworkML0101ENSkillsNetwork20718538-2022-01-01).\n",
    "\n",
    "The dataset to be used has extra columns like 'RainToday' and our target is 'RainTomorrow', which was gathered from the Rattle at [https://bitbucket.org/kayontoga/rattle/src/master/data/weatherAUS.RData](https://bitbucket.org/kayontoga/rattle/src/master/data/weatherAUS.RData?utm_medium=Exinfluencer&utm_source=Exinfluencer&utm_content=000026UJ&utm_term=10006555&utm_id=NA-SkillsNetwork-Channel-SkillsNetworkCoursesIBMDeveloperSkillsNetworkML0101ENSkillsNetwork20718538-2022-01-01)\n"
   ]
  },
  {
   "cell_type": "markdown",
   "metadata": {},
   "source": [
    "This dataset contains observations of weather metrics for each day from 2008 to 2017. The **weatherAUS.csv** dataset includes the following fields:\n",
    "\n",
    "| Field         | Description                                           | Unit            | Type   |\n",
    "| ------------- | ----------------------------------------------------- | --------------- | ------ |\n",
    "| Date          | Date of the Observation in YYYY-MM-DD                 | Date            | object |\n",
    "| Location      | Location of the Observation                           | Location        | object |\n",
    "| MinTemp       | Minimum temperature                                   | Celsius         | float  |\n",
    "| MaxTemp       | Maximum temperature                                   | Celsius         | float  |\n",
    "| Rainfall      | Amount of rainfall                                    | Millimeters     | float  |\n",
    "| Evaporation   | Amount of evaporation                                 | Millimeters     | float  |\n",
    "| Sunshine      | Amount of bright sunshine                             | hours           | float  |\n",
    "| WindGustDir   | Direction of the strongest gust                       | Compass Points  | object |\n",
    "| WindGustSpeed | Speed of the strongest gust                           | Kilometers/Hour | object |\n",
    "| WindDir9am    | Wind direction averaged of 10 minutes prior to 9am    | Compass Points  | object |\n",
    "| WindDir3pm    | Wind direction averaged of 10 minutes prior to 3pm    | Compass Points  | object |\n",
    "| WindSpeed9am  | Wind speed averaged of 10 minutes prior to 9am        | Kilometers/Hour | float  |\n",
    "| WindSpeed3pm  | Wind speed averaged of 10 minutes prior to 3pm        | Kilometers/Hour | float  |\n",
    "| Humidity9am   | Humidity at 9am                                       | Percent         | float  |\n",
    "| Humidity3pm   | Humidity at 3pm                                       | Percent         | float  |\n",
    "| Pressure9am   | Atmospheric pressure reduced to mean sea level at 9am | Hectopascal     | float  |\n",
    "| Pressure3pm   | Atmospheric pressure reduced to mean sea level at 3pm | Hectopascal     | float  |\n",
    "| Cloud9am      | Fraction of the sky obscured by cloud at 9am          | Eights          | float  |\n",
    "| Cloud3pm      | Fraction of the sky obscured by cloud at 3pm          | Eights          | float  |\n",
    "| Temp9am       | Temperature at 9am                                    | Celsius         | float  |\n",
    "| Temp3pm       | Temperature at 3pm                                    | Celsius         | float  |\n",
    "| RainToday     | If there was rain today                               | Yes/No          | object |\n",
    "| RISK_MM       | Amount of rain tomorrow                               | Millimeters     | float  |\n",
    "| RainTomorrow  | If there is rain tomorrow                             | Yes/No          | float  |\n",
    "\n",
    "Column definitions were gathered from [http://www.bom.gov.au/climate/dwo/IDCJDW0000.shtml](http://www.bom.gov.au/climate/dwo/IDCJDW0000.shtml?utm_medium=Exinfluencer&utm_source=Exinfluencer&utm_content=000026UJ&utm_term=10006555&utm_id=NA-SkillsNetwork-Channel-SkillsNetworkCoursesIBMDeveloperSkillsNetworkML0101ENSkillsNetwork20718538-2022-01-01)\n"
   ]
  },
  {
   "cell_type": "markdown",
   "metadata": {},
   "source": [
    "## **Import the required libraries**\n"
   ]
  },
  {
   "cell_type": "code",
   "execution_count": null,
   "metadata": {},
   "outputs": [],
   "source": [
    "# All Libraries required for this lab are listed below. The libraries pre-installed on Skills Network Labs are commented.\n",
    "# !mamba install -qy pandas==1.3.4 numpy==1.21.4 seaborn==0.9.0 matplotlib==3.5.0 scikit-learn==0.20.1\n",
    "# Note: If your environment doesn't support \"!mamba install\", use \"!pip install\""
   ]
  },
  {
   "cell_type": "code",
   "execution_count": 1,
   "metadata": {},
   "outputs": [],
   "source": [
    "# Surpress warnings:\n",
    "def warn(*args, **kwargs):\n",
    "    pass\n",
    "import warnings\n",
    "warnings.warn = warn"
   ]
  },
  {
   "cell_type": "code",
   "execution_count": 2,
   "metadata": {},
   "outputs": [],
   "source": [
    "#you are running the lab in your  browser, so we will install the libraries using ``piplite``\n",
    "import piplite\n",
    "await piplite.install(['pandas'])\n",
    "await piplite.install(['numpy'])\n"
   ]
  },
  {
   "cell_type": "code",
   "execution_count": 3,
   "metadata": {},
   "outputs": [],
   "source": [
    "import pandas as pd\n",
    "from sklearn.linear_model import LogisticRegression\n",
    "from sklearn.linear_model import LinearRegression\n",
    "from sklearn import preprocessing\n",
    "import numpy as np\n",
    "from sklearn.neighbors import KNeighborsClassifier\n",
    "from sklearn.model_selection import train_test_split\n",
    "from sklearn.neighbors import KNeighborsClassifier\n",
    "from sklearn.tree import DecisionTreeClassifier\n",
    "from sklearn import svm\n",
    "from sklearn.metrics import jaccard_score\n",
    "from sklearn.metrics import f1_score\n",
    "from sklearn.metrics import log_loss\n",
    "from sklearn.metrics import confusion_matrix, accuracy_score\n",
    "import sklearn.metrics as metrics"
   ]
  },
  {
   "cell_type": "markdown",
   "metadata": {},
   "source": [
    "### Importing the Dataset\n"
   ]
  },
  {
   "cell_type": "code",
   "execution_count": 4,
   "metadata": {},
   "outputs": [],
   "source": [
    "from pyodide.http import pyfetch\n",
    "\n",
    "async def download(url, filename):\n",
    "    response = await pyfetch(url)\n",
    "    if response.status == 200:\n",
    "        with open(filename, \"wb\") as f:\n",
    "            f.write(await response.bytes())"
   ]
  },
  {
   "cell_type": "code",
   "execution_count": 5,
   "metadata": {},
   "outputs": [],
   "source": [
    "path='https://cf-courses-data.s3.us.cloud-object-storage.appdomain.cloud/IBMDeveloperSkillsNetwork-ML0101EN-SkillUp/labs/ML-FinalAssignment/Weather_Data.csv'"
   ]
  },
  {
   "cell_type": "code",
   "execution_count": 6,
   "metadata": {},
   "outputs": [],
   "source": [
    "await download(path, \"Weather_Data.csv\")\n",
    "filename =\"Weather_Data.csv\""
   ]
  },
  {
   "cell_type": "code",
   "execution_count": 7,
   "metadata": {},
   "outputs": [
    {
     "data": {
      "text/html": [
       "<div>\n",
       "<style scoped>\n",
       "    .dataframe tbody tr th:only-of-type {\n",
       "        vertical-align: middle;\n",
       "    }\n",
       "\n",
       "    .dataframe tbody tr th {\n",
       "        vertical-align: top;\n",
       "    }\n",
       "\n",
       "    .dataframe thead th {\n",
       "        text-align: right;\n",
       "    }\n",
       "</style>\n",
       "<table border=\"1\" class=\"dataframe\">\n",
       "  <thead>\n",
       "    <tr style=\"text-align: right;\">\n",
       "      <th></th>\n",
       "      <th>Date</th>\n",
       "      <th>MinTemp</th>\n",
       "      <th>MaxTemp</th>\n",
       "      <th>Rainfall</th>\n",
       "      <th>Evaporation</th>\n",
       "      <th>Sunshine</th>\n",
       "      <th>WindGustDir</th>\n",
       "      <th>WindGustSpeed</th>\n",
       "      <th>WindDir9am</th>\n",
       "      <th>WindDir3pm</th>\n",
       "      <th>...</th>\n",
       "      <th>Humidity9am</th>\n",
       "      <th>Humidity3pm</th>\n",
       "      <th>Pressure9am</th>\n",
       "      <th>Pressure3pm</th>\n",
       "      <th>Cloud9am</th>\n",
       "      <th>Cloud3pm</th>\n",
       "      <th>Temp9am</th>\n",
       "      <th>Temp3pm</th>\n",
       "      <th>RainToday</th>\n",
       "      <th>RainTomorrow</th>\n",
       "    </tr>\n",
       "  </thead>\n",
       "  <tbody>\n",
       "    <tr>\n",
       "      <th>0</th>\n",
       "      <td>2/1/2008</td>\n",
       "      <td>19.5</td>\n",
       "      <td>22.4</td>\n",
       "      <td>15.6</td>\n",
       "      <td>6.2</td>\n",
       "      <td>0.0</td>\n",
       "      <td>W</td>\n",
       "      <td>41</td>\n",
       "      <td>S</td>\n",
       "      <td>SSW</td>\n",
       "      <td>...</td>\n",
       "      <td>92</td>\n",
       "      <td>84</td>\n",
       "      <td>1017.6</td>\n",
       "      <td>1017.4</td>\n",
       "      <td>8</td>\n",
       "      <td>8</td>\n",
       "      <td>20.7</td>\n",
       "      <td>20.9</td>\n",
       "      <td>Yes</td>\n",
       "      <td>Yes</td>\n",
       "    </tr>\n",
       "    <tr>\n",
       "      <th>1</th>\n",
       "      <td>2/2/2008</td>\n",
       "      <td>19.5</td>\n",
       "      <td>25.6</td>\n",
       "      <td>6.0</td>\n",
       "      <td>3.4</td>\n",
       "      <td>2.7</td>\n",
       "      <td>W</td>\n",
       "      <td>41</td>\n",
       "      <td>W</td>\n",
       "      <td>E</td>\n",
       "      <td>...</td>\n",
       "      <td>83</td>\n",
       "      <td>73</td>\n",
       "      <td>1017.9</td>\n",
       "      <td>1016.4</td>\n",
       "      <td>7</td>\n",
       "      <td>7</td>\n",
       "      <td>22.4</td>\n",
       "      <td>24.8</td>\n",
       "      <td>Yes</td>\n",
       "      <td>Yes</td>\n",
       "    </tr>\n",
       "    <tr>\n",
       "      <th>2</th>\n",
       "      <td>2/3/2008</td>\n",
       "      <td>21.6</td>\n",
       "      <td>24.5</td>\n",
       "      <td>6.6</td>\n",
       "      <td>2.4</td>\n",
       "      <td>0.1</td>\n",
       "      <td>W</td>\n",
       "      <td>41</td>\n",
       "      <td>ESE</td>\n",
       "      <td>ESE</td>\n",
       "      <td>...</td>\n",
       "      <td>88</td>\n",
       "      <td>86</td>\n",
       "      <td>1016.7</td>\n",
       "      <td>1015.6</td>\n",
       "      <td>7</td>\n",
       "      <td>8</td>\n",
       "      <td>23.5</td>\n",
       "      <td>23.0</td>\n",
       "      <td>Yes</td>\n",
       "      <td>Yes</td>\n",
       "    </tr>\n",
       "    <tr>\n",
       "      <th>3</th>\n",
       "      <td>2/4/2008</td>\n",
       "      <td>20.2</td>\n",
       "      <td>22.8</td>\n",
       "      <td>18.8</td>\n",
       "      <td>2.2</td>\n",
       "      <td>0.0</td>\n",
       "      <td>W</td>\n",
       "      <td>41</td>\n",
       "      <td>NNE</td>\n",
       "      <td>E</td>\n",
       "      <td>...</td>\n",
       "      <td>83</td>\n",
       "      <td>90</td>\n",
       "      <td>1014.2</td>\n",
       "      <td>1011.8</td>\n",
       "      <td>8</td>\n",
       "      <td>8</td>\n",
       "      <td>21.4</td>\n",
       "      <td>20.9</td>\n",
       "      <td>Yes</td>\n",
       "      <td>Yes</td>\n",
       "    </tr>\n",
       "    <tr>\n",
       "      <th>4</th>\n",
       "      <td>2/5/2008</td>\n",
       "      <td>19.7</td>\n",
       "      <td>25.7</td>\n",
       "      <td>77.4</td>\n",
       "      <td>4.8</td>\n",
       "      <td>0.0</td>\n",
       "      <td>W</td>\n",
       "      <td>41</td>\n",
       "      <td>NNE</td>\n",
       "      <td>W</td>\n",
       "      <td>...</td>\n",
       "      <td>88</td>\n",
       "      <td>74</td>\n",
       "      <td>1008.3</td>\n",
       "      <td>1004.8</td>\n",
       "      <td>8</td>\n",
       "      <td>8</td>\n",
       "      <td>22.5</td>\n",
       "      <td>25.5</td>\n",
       "      <td>Yes</td>\n",
       "      <td>Yes</td>\n",
       "    </tr>\n",
       "  </tbody>\n",
       "</table>\n",
       "<p>5 rows × 22 columns</p>\n",
       "</div>"
      ],
      "text/plain": [
       "       Date  MinTemp  MaxTemp  Rainfall  Evaporation  Sunshine WindGustDir  \\\n",
       "0  2/1/2008     19.5     22.4      15.6          6.2       0.0           W   \n",
       "1  2/2/2008     19.5     25.6       6.0          3.4       2.7           W   \n",
       "2  2/3/2008     21.6     24.5       6.6          2.4       0.1           W   \n",
       "3  2/4/2008     20.2     22.8      18.8          2.2       0.0           W   \n",
       "4  2/5/2008     19.7     25.7      77.4          4.8       0.0           W   \n",
       "\n",
       "   WindGustSpeed WindDir9am WindDir3pm  ...  Humidity9am  Humidity3pm  \\\n",
       "0             41          S        SSW  ...           92           84   \n",
       "1             41          W          E  ...           83           73   \n",
       "2             41        ESE        ESE  ...           88           86   \n",
       "3             41        NNE          E  ...           83           90   \n",
       "4             41        NNE          W  ...           88           74   \n",
       "\n",
       "   Pressure9am  Pressure3pm  Cloud9am  Cloud3pm  Temp9am  Temp3pm  RainToday  \\\n",
       "0       1017.6       1017.4         8         8     20.7     20.9        Yes   \n",
       "1       1017.9       1016.4         7         7     22.4     24.8        Yes   \n",
       "2       1016.7       1015.6         7         8     23.5     23.0        Yes   \n",
       "3       1014.2       1011.8         8         8     21.4     20.9        Yes   \n",
       "4       1008.3       1004.8         8         8     22.5     25.5        Yes   \n",
       "\n",
       "   RainTomorrow  \n",
       "0           Yes  \n",
       "1           Yes  \n",
       "2           Yes  \n",
       "3           Yes  \n",
       "4           Yes  \n",
       "\n",
       "[5 rows x 22 columns]"
      ]
     },
     "execution_count": 7,
     "metadata": {},
     "output_type": "execute_result"
    }
   ],
   "source": [
    "df = pd.read_csv(\"Weather_Data.csv\")\n",
    "df.head()"
   ]
  },
  {
   "cell_type": "markdown",
   "metadata": {},
   "source": [
    "### Data Preprocessing\n"
   ]
  },
  {
   "cell_type": "markdown",
   "metadata": {},
   "source": [
    "#### One Hot Encoding\n"
   ]
  },
  {
   "cell_type": "markdown",
   "metadata": {},
   "source": [
    "First, we need to perform one hot encoding to convert categorical variables to binary variables.\n"
   ]
  },
  {
   "cell_type": "code",
   "execution_count": 8,
   "metadata": {},
   "outputs": [],
   "source": [
    "df_sydney_processed = pd.get_dummies(data=df, columns=['RainToday', 'WindGustDir', 'WindDir9am', 'WindDir3pm'])"
   ]
  },
  {
   "cell_type": "markdown",
   "metadata": {},
   "source": [
    "Next, we replace the values of the 'RainTomorrow' column changing them from a categorical column to a binary column. We do not use the `get_dummies` method because we would end up with two columns for 'RainTomorrow' and we do not want, since 'RainTomorrow' is our target.\n"
   ]
  },
  {
   "cell_type": "code",
   "execution_count": 9,
   "metadata": {},
   "outputs": [],
   "source": [
    "df_sydney_processed.replace(['No', 'Yes'], [0,1], inplace=True)"
   ]
  },
  {
   "cell_type": "markdown",
   "metadata": {},
   "source": [
    "### Training Data and Test Data\n"
   ]
  },
  {
   "cell_type": "markdown",
   "metadata": {},
   "source": [
    "Now, we set our 'features' or x values and our Y or target variable.\n"
   ]
  },
  {
   "cell_type": "code",
   "execution_count": 10,
   "metadata": {},
   "outputs": [],
   "source": [
    "df_sydney_processed.drop('Date',axis=1,inplace=True)"
   ]
  },
  {
   "cell_type": "code",
   "execution_count": 11,
   "metadata": {},
   "outputs": [],
   "source": [
    "df_sydney_processed = df_sydney_processed.astype(float)"
   ]
  },
  {
   "cell_type": "code",
   "execution_count": 12,
   "metadata": {},
   "outputs": [],
   "source": [
    "features = df_sydney_processed.drop(columns='RainTomorrow', axis=1)\n",
    "Y = df_sydney_processed['RainTomorrow']"
   ]
  },
  {
   "cell_type": "code",
   "execution_count": 15,
   "metadata": {
    "collapsed": true,
    "jupyter": {
     "outputs_hidden": true
    },
    "tags": []
   },
   "outputs": [
    {
     "data": {
      "text/html": [
       "<div>\n",
       "<style scoped>\n",
       "    .dataframe tbody tr th:only-of-type {\n",
       "        vertical-align: middle;\n",
       "    }\n",
       "\n",
       "    .dataframe tbody tr th {\n",
       "        vertical-align: top;\n",
       "    }\n",
       "\n",
       "    .dataframe thead th {\n",
       "        text-align: right;\n",
       "    }\n",
       "</style>\n",
       "<table border=\"1\" class=\"dataframe\">\n",
       "  <thead>\n",
       "    <tr style=\"text-align: right;\">\n",
       "      <th></th>\n",
       "      <th>MinTemp</th>\n",
       "      <th>MaxTemp</th>\n",
       "      <th>Rainfall</th>\n",
       "      <th>Evaporation</th>\n",
       "      <th>Sunshine</th>\n",
       "      <th>WindGustSpeed</th>\n",
       "      <th>WindSpeed9am</th>\n",
       "      <th>WindSpeed3pm</th>\n",
       "      <th>Humidity9am</th>\n",
       "      <th>Humidity3pm</th>\n",
       "      <th>...</th>\n",
       "      <th>WindDir3pm_NNW</th>\n",
       "      <th>WindDir3pm_NW</th>\n",
       "      <th>WindDir3pm_S</th>\n",
       "      <th>WindDir3pm_SE</th>\n",
       "      <th>WindDir3pm_SSE</th>\n",
       "      <th>WindDir3pm_SSW</th>\n",
       "      <th>WindDir3pm_SW</th>\n",
       "      <th>WindDir3pm_W</th>\n",
       "      <th>WindDir3pm_WNW</th>\n",
       "      <th>WindDir3pm_WSW</th>\n",
       "    </tr>\n",
       "  </thead>\n",
       "  <tbody>\n",
       "    <tr>\n",
       "      <th>0</th>\n",
       "      <td>19.5</td>\n",
       "      <td>22.4</td>\n",
       "      <td>15.6</td>\n",
       "      <td>6.2</td>\n",
       "      <td>0.0</td>\n",
       "      <td>41.0</td>\n",
       "      <td>17.0</td>\n",
       "      <td>20.0</td>\n",
       "      <td>92.0</td>\n",
       "      <td>84.0</td>\n",
       "      <td>...</td>\n",
       "      <td>0.0</td>\n",
       "      <td>0.0</td>\n",
       "      <td>0.0</td>\n",
       "      <td>0.0</td>\n",
       "      <td>0.0</td>\n",
       "      <td>1.0</td>\n",
       "      <td>0.0</td>\n",
       "      <td>0.0</td>\n",
       "      <td>0.0</td>\n",
       "      <td>0.0</td>\n",
       "    </tr>\n",
       "    <tr>\n",
       "      <th>1</th>\n",
       "      <td>19.5</td>\n",
       "      <td>25.6</td>\n",
       "      <td>6.0</td>\n",
       "      <td>3.4</td>\n",
       "      <td>2.7</td>\n",
       "      <td>41.0</td>\n",
       "      <td>9.0</td>\n",
       "      <td>13.0</td>\n",
       "      <td>83.0</td>\n",
       "      <td>73.0</td>\n",
       "      <td>...</td>\n",
       "      <td>0.0</td>\n",
       "      <td>0.0</td>\n",
       "      <td>0.0</td>\n",
       "      <td>0.0</td>\n",
       "      <td>0.0</td>\n",
       "      <td>0.0</td>\n",
       "      <td>0.0</td>\n",
       "      <td>0.0</td>\n",
       "      <td>0.0</td>\n",
       "      <td>0.0</td>\n",
       "    </tr>\n",
       "    <tr>\n",
       "      <th>2</th>\n",
       "      <td>21.6</td>\n",
       "      <td>24.5</td>\n",
       "      <td>6.6</td>\n",
       "      <td>2.4</td>\n",
       "      <td>0.1</td>\n",
       "      <td>41.0</td>\n",
       "      <td>17.0</td>\n",
       "      <td>2.0</td>\n",
       "      <td>88.0</td>\n",
       "      <td>86.0</td>\n",
       "      <td>...</td>\n",
       "      <td>0.0</td>\n",
       "      <td>0.0</td>\n",
       "      <td>0.0</td>\n",
       "      <td>0.0</td>\n",
       "      <td>0.0</td>\n",
       "      <td>0.0</td>\n",
       "      <td>0.0</td>\n",
       "      <td>0.0</td>\n",
       "      <td>0.0</td>\n",
       "      <td>0.0</td>\n",
       "    </tr>\n",
       "    <tr>\n",
       "      <th>3</th>\n",
       "      <td>20.2</td>\n",
       "      <td>22.8</td>\n",
       "      <td>18.8</td>\n",
       "      <td>2.2</td>\n",
       "      <td>0.0</td>\n",
       "      <td>41.0</td>\n",
       "      <td>22.0</td>\n",
       "      <td>20.0</td>\n",
       "      <td>83.0</td>\n",
       "      <td>90.0</td>\n",
       "      <td>...</td>\n",
       "      <td>0.0</td>\n",
       "      <td>0.0</td>\n",
       "      <td>0.0</td>\n",
       "      <td>0.0</td>\n",
       "      <td>0.0</td>\n",
       "      <td>0.0</td>\n",
       "      <td>0.0</td>\n",
       "      <td>0.0</td>\n",
       "      <td>0.0</td>\n",
       "      <td>0.0</td>\n",
       "    </tr>\n",
       "    <tr>\n",
       "      <th>4</th>\n",
       "      <td>19.7</td>\n",
       "      <td>25.7</td>\n",
       "      <td>77.4</td>\n",
       "      <td>4.8</td>\n",
       "      <td>0.0</td>\n",
       "      <td>41.0</td>\n",
       "      <td>11.0</td>\n",
       "      <td>6.0</td>\n",
       "      <td>88.0</td>\n",
       "      <td>74.0</td>\n",
       "      <td>...</td>\n",
       "      <td>0.0</td>\n",
       "      <td>0.0</td>\n",
       "      <td>0.0</td>\n",
       "      <td>0.0</td>\n",
       "      <td>0.0</td>\n",
       "      <td>0.0</td>\n",
       "      <td>0.0</td>\n",
       "      <td>1.0</td>\n",
       "      <td>0.0</td>\n",
       "      <td>0.0</td>\n",
       "    </tr>\n",
       "    <tr>\n",
       "      <th>...</th>\n",
       "      <td>...</td>\n",
       "      <td>...</td>\n",
       "      <td>...</td>\n",
       "      <td>...</td>\n",
       "      <td>...</td>\n",
       "      <td>...</td>\n",
       "      <td>...</td>\n",
       "      <td>...</td>\n",
       "      <td>...</td>\n",
       "      <td>...</td>\n",
       "      <td>...</td>\n",
       "      <td>...</td>\n",
       "      <td>...</td>\n",
       "      <td>...</td>\n",
       "      <td>...</td>\n",
       "      <td>...</td>\n",
       "      <td>...</td>\n",
       "      <td>...</td>\n",
       "      <td>...</td>\n",
       "      <td>...</td>\n",
       "      <td>...</td>\n",
       "    </tr>\n",
       "    <tr>\n",
       "      <th>3266</th>\n",
       "      <td>8.6</td>\n",
       "      <td>19.6</td>\n",
       "      <td>0.0</td>\n",
       "      <td>2.0</td>\n",
       "      <td>7.8</td>\n",
       "      <td>37.0</td>\n",
       "      <td>22.0</td>\n",
       "      <td>20.0</td>\n",
       "      <td>73.0</td>\n",
       "      <td>52.0</td>\n",
       "      <td>...</td>\n",
       "      <td>0.0</td>\n",
       "      <td>0.0</td>\n",
       "      <td>0.0</td>\n",
       "      <td>0.0</td>\n",
       "      <td>1.0</td>\n",
       "      <td>0.0</td>\n",
       "      <td>0.0</td>\n",
       "      <td>0.0</td>\n",
       "      <td>0.0</td>\n",
       "      <td>0.0</td>\n",
       "    </tr>\n",
       "    <tr>\n",
       "      <th>3267</th>\n",
       "      <td>9.3</td>\n",
       "      <td>19.2</td>\n",
       "      <td>0.0</td>\n",
       "      <td>2.0</td>\n",
       "      <td>9.2</td>\n",
       "      <td>30.0</td>\n",
       "      <td>20.0</td>\n",
       "      <td>7.0</td>\n",
       "      <td>78.0</td>\n",
       "      <td>53.0</td>\n",
       "      <td>...</td>\n",
       "      <td>0.0</td>\n",
       "      <td>0.0</td>\n",
       "      <td>0.0</td>\n",
       "      <td>0.0</td>\n",
       "      <td>0.0</td>\n",
       "      <td>0.0</td>\n",
       "      <td>0.0</td>\n",
       "      <td>0.0</td>\n",
       "      <td>0.0</td>\n",
       "      <td>0.0</td>\n",
       "    </tr>\n",
       "    <tr>\n",
       "      <th>3268</th>\n",
       "      <td>9.4</td>\n",
       "      <td>17.7</td>\n",
       "      <td>0.0</td>\n",
       "      <td>2.4</td>\n",
       "      <td>2.7</td>\n",
       "      <td>24.0</td>\n",
       "      <td>15.0</td>\n",
       "      <td>13.0</td>\n",
       "      <td>85.0</td>\n",
       "      <td>56.0</td>\n",
       "      <td>...</td>\n",
       "      <td>0.0</td>\n",
       "      <td>0.0</td>\n",
       "      <td>0.0</td>\n",
       "      <td>0.0</td>\n",
       "      <td>0.0</td>\n",
       "      <td>0.0</td>\n",
       "      <td>0.0</td>\n",
       "      <td>0.0</td>\n",
       "      <td>0.0</td>\n",
       "      <td>0.0</td>\n",
       "    </tr>\n",
       "    <tr>\n",
       "      <th>3269</th>\n",
       "      <td>10.1</td>\n",
       "      <td>19.3</td>\n",
       "      <td>0.0</td>\n",
       "      <td>1.4</td>\n",
       "      <td>9.3</td>\n",
       "      <td>43.0</td>\n",
       "      <td>17.0</td>\n",
       "      <td>19.0</td>\n",
       "      <td>56.0</td>\n",
       "      <td>35.0</td>\n",
       "      <td>...</td>\n",
       "      <td>0.0</td>\n",
       "      <td>0.0</td>\n",
       "      <td>0.0</td>\n",
       "      <td>0.0</td>\n",
       "      <td>0.0</td>\n",
       "      <td>0.0</td>\n",
       "      <td>0.0</td>\n",
       "      <td>1.0</td>\n",
       "      <td>0.0</td>\n",
       "      <td>0.0</td>\n",
       "    </tr>\n",
       "    <tr>\n",
       "      <th>3270</th>\n",
       "      <td>7.6</td>\n",
       "      <td>19.3</td>\n",
       "      <td>0.0</td>\n",
       "      <td>3.4</td>\n",
       "      <td>9.4</td>\n",
       "      <td>35.0</td>\n",
       "      <td>13.0</td>\n",
       "      <td>13.0</td>\n",
       "      <td>73.0</td>\n",
       "      <td>32.0</td>\n",
       "      <td>...</td>\n",
       "      <td>0.0</td>\n",
       "      <td>0.0</td>\n",
       "      <td>0.0</td>\n",
       "      <td>0.0</td>\n",
       "      <td>0.0</td>\n",
       "      <td>0.0</td>\n",
       "      <td>0.0</td>\n",
       "      <td>1.0</td>\n",
       "      <td>0.0</td>\n",
       "      <td>0.0</td>\n",
       "    </tr>\n",
       "  </tbody>\n",
       "</table>\n",
       "<p>3271 rows × 66 columns</p>\n",
       "</div>"
      ],
      "text/plain": [
       "      MinTemp  MaxTemp  Rainfall  Evaporation  Sunshine  WindGustSpeed  \\\n",
       "0        19.5     22.4      15.6          6.2       0.0           41.0   \n",
       "1        19.5     25.6       6.0          3.4       2.7           41.0   \n",
       "2        21.6     24.5       6.6          2.4       0.1           41.0   \n",
       "3        20.2     22.8      18.8          2.2       0.0           41.0   \n",
       "4        19.7     25.7      77.4          4.8       0.0           41.0   \n",
       "...       ...      ...       ...          ...       ...            ...   \n",
       "3266      8.6     19.6       0.0          2.0       7.8           37.0   \n",
       "3267      9.3     19.2       0.0          2.0       9.2           30.0   \n",
       "3268      9.4     17.7       0.0          2.4       2.7           24.0   \n",
       "3269     10.1     19.3       0.0          1.4       9.3           43.0   \n",
       "3270      7.6     19.3       0.0          3.4       9.4           35.0   \n",
       "\n",
       "      WindSpeed9am  WindSpeed3pm  Humidity9am  Humidity3pm  ...  \\\n",
       "0             17.0          20.0         92.0         84.0  ...   \n",
       "1              9.0          13.0         83.0         73.0  ...   \n",
       "2             17.0           2.0         88.0         86.0  ...   \n",
       "3             22.0          20.0         83.0         90.0  ...   \n",
       "4             11.0           6.0         88.0         74.0  ...   \n",
       "...            ...           ...          ...          ...  ...   \n",
       "3266          22.0          20.0         73.0         52.0  ...   \n",
       "3267          20.0           7.0         78.0         53.0  ...   \n",
       "3268          15.0          13.0         85.0         56.0  ...   \n",
       "3269          17.0          19.0         56.0         35.0  ...   \n",
       "3270          13.0          13.0         73.0         32.0  ...   \n",
       "\n",
       "      WindDir3pm_NNW  WindDir3pm_NW  WindDir3pm_S  WindDir3pm_SE  \\\n",
       "0                0.0            0.0           0.0            0.0   \n",
       "1                0.0            0.0           0.0            0.0   \n",
       "2                0.0            0.0           0.0            0.0   \n",
       "3                0.0            0.0           0.0            0.0   \n",
       "4                0.0            0.0           0.0            0.0   \n",
       "...              ...            ...           ...            ...   \n",
       "3266             0.0            0.0           0.0            0.0   \n",
       "3267             0.0            0.0           0.0            0.0   \n",
       "3268             0.0            0.0           0.0            0.0   \n",
       "3269             0.0            0.0           0.0            0.0   \n",
       "3270             0.0            0.0           0.0            0.0   \n",
       "\n",
       "      WindDir3pm_SSE  WindDir3pm_SSW  WindDir3pm_SW  WindDir3pm_W  \\\n",
       "0                0.0             1.0            0.0           0.0   \n",
       "1                0.0             0.0            0.0           0.0   \n",
       "2                0.0             0.0            0.0           0.0   \n",
       "3                0.0             0.0            0.0           0.0   \n",
       "4                0.0             0.0            0.0           1.0   \n",
       "...              ...             ...            ...           ...   \n",
       "3266             1.0             0.0            0.0           0.0   \n",
       "3267             0.0             0.0            0.0           0.0   \n",
       "3268             0.0             0.0            0.0           0.0   \n",
       "3269             0.0             0.0            0.0           1.0   \n",
       "3270             0.0             0.0            0.0           1.0   \n",
       "\n",
       "      WindDir3pm_WNW  WindDir3pm_WSW  \n",
       "0                0.0             0.0  \n",
       "1                0.0             0.0  \n",
       "2                0.0             0.0  \n",
       "3                0.0             0.0  \n",
       "4                0.0             0.0  \n",
       "...              ...             ...  \n",
       "3266             0.0             0.0  \n",
       "3267             0.0             0.0  \n",
       "3268             0.0             0.0  \n",
       "3269             0.0             0.0  \n",
       "3270             0.0             0.0  \n",
       "\n",
       "[3271 rows x 66 columns]"
      ]
     },
     "execution_count": 15,
     "metadata": {},
     "output_type": "execute_result"
    }
   ],
   "source": [
    "features"
   ]
  },
  {
   "cell_type": "markdown",
   "metadata": {},
   "source": [
    "### Linear Regression\n"
   ]
  },
  {
   "cell_type": "markdown",
   "metadata": {},
   "source": [
    "#### Q1) Use the `train_test_split` function to split the `features` and `Y` dataframes with a `test_size` of `0.2` and the `random_state` set to `10`.\n"
   ]
  },
  {
   "cell_type": "code",
   "execution_count": null,
   "metadata": {},
   "outputs": [],
   "source": [
    "#Enter Your Code, Execute and take the Screenshot\n",
    "\n"
   ]
  },
  {
   "cell_type": "code",
   "execution_count": 16,
   "metadata": {},
   "outputs": [],
   "source": [
    "x_train, x_test, y_train, y_test = train_test_split(features, Y, test_size = 0.2, random_state = 10)"
   ]
  },
  {
   "cell_type": "code",
   "execution_count": 17,
   "metadata": {},
   "outputs": [
    {
     "name": "stdout",
     "output_type": "stream",
     "text": [
      "Shape of X training set (2616, 66) &  Size of Y training set (2616,)\n"
     ]
    }
   ],
   "source": [
    "print('Shape of X training set {}'.format(x_train.shape),'&',' Size of Y training set {}'.format(y_train.shape))"
   ]
  },
  {
   "cell_type": "markdown",
   "metadata": {},
   "source": [
    "#### Q2) Create and train a Linear Regression model called LinearReg using the training data (`x_train`, `y_train`).\n"
   ]
  },
  {
   "cell_type": "code",
   "execution_count": null,
   "metadata": {},
   "outputs": [],
   "source": [
    "#Enter Your Code, Execute and take the Screenshot"
   ]
  },
  {
   "cell_type": "code",
   "execution_count": 20,
   "metadata": {},
   "outputs": [
    {
     "name": "stdout",
     "output_type": "stream",
     "text": [
      "Coefficients:  [-2.36862502e-02  1.30060400e-02  7.29929096e-04  6.49363254e-03\n",
      " -3.51643494e-02  4.23733388e-03  1.82788340e-03  7.90075624e-04\n",
      "  9.56782146e-04  8.55986210e-03  7.69992241e-03 -9.24589847e-03\n",
      " -8.88017645e-03  1.00487910e-02  1.44675206e-02 -3.48703168e-03\n",
      "  8.47590247e+08  8.47590247e+08 -6.41324526e+09 -6.41324526e+09\n",
      " -6.41324526e+09 -6.41324526e+09 -6.41324526e+09 -6.41324526e+09\n",
      " -6.41324526e+09 -6.41324526e+09 -6.41324526e+09 -6.41324526e+09\n",
      " -6.41324526e+09 -6.41324526e+09 -6.41324526e+09 -6.41324526e+09\n",
      " -6.41324526e+09 -6.41324526e+09  1.43257002e+10  1.43257002e+10\n",
      "  1.43257002e+10  1.43257002e+10  1.43257002e+10  1.43257002e+10\n",
      "  1.43257002e+10  1.43257002e+10  1.43257002e+10  1.43257002e+10\n",
      "  1.43257002e+10  1.43257002e+10  1.43257002e+10  1.43257002e+10\n",
      "  1.43257002e+10  1.43257002e+10 -1.09414185e+10 -1.09414185e+10\n",
      " -1.09414185e+10 -1.09414185e+10 -1.09414185e+10 -1.09414185e+10\n",
      " -1.09414185e+10 -1.09414185e+10 -1.09414185e+10 -1.09414185e+10\n",
      " -1.09414185e+10 -1.09414185e+10 -1.09414185e+10 -1.09414185e+10\n",
      " -1.09414185e+10 -1.09414185e+10]\n"
     ]
    }
   ],
   "source": [
    "LinearReg = LinearRegression()\n",
    "x = np.asanyarray(x_train)\n",
    "y = np.asanyarray(y_train)\n",
    "LinearReg.fit(x,y)\n",
    "print ('Coefficients: ', LinearReg.coef_)"
   ]
  },
  {
   "cell_type": "markdown",
   "metadata": {},
   "source": [
    "#### Q3) Now use the `predict` method on the testing data (`x_test`) and save it to the array `predictions`.\n"
   ]
  },
  {
   "cell_type": "code",
   "execution_count": null,
   "metadata": {},
   "outputs": [],
   "source": [
    "#Enter Your Code, Execute and take the Screenshot"
   ]
  },
  {
   "cell_type": "code",
   "execution_count": 22,
   "metadata": {
    "collapsed": true,
    "jupyter": {
     "outputs_hidden": true
    },
    "tags": []
   },
   "outputs": [
    {
     "data": {
      "text/plain": [
       "array([ 1.31870270e-01,  2.76231766e-01,  9.78183746e-01,  2.87435532e-01,\n",
       "        1.32417679e-01,  4.60441589e-01,  3.56842041e-01,  8.56363297e-01,\n",
       "        6.74980164e-01,  3.82499695e-02,  4.76837158e-03,  2.81208038e-01,\n",
       "        3.39082718e-01,  7.81269073e-02,  6.26029968e-02,  5.64428329e-01,\n",
       "       -6.15978241e-02,  5.24219513e-01,  1.53711319e-01,  3.59663010e-01,\n",
       "        6.05697632e-02,  9.03598785e-01,  4.67275620e-01,  2.03376770e-01,\n",
       "       -7.10296631e-02,  3.83914948e-01,  5.36052704e-01, -2.28767395e-02,\n",
       "        6.40144348e-01, -9.56420898e-02,  3.78049850e-01,  1.20239258e-01,\n",
       "       -1.81922913e-02,  5.53665161e-02,  5.63453674e-01,  1.06297112e+00,\n",
       "       -6.76727295e-03,  5.14366150e-01, -8.83789062e-02,  6.92253113e-02,\n",
       "        2.44255066e-02,  8.71753693e-01,  2.44644165e-01,  3.94720078e-01,\n",
       "        2.67574310e-01,  4.46748734e-01, -4.75864410e-02,  1.89435959e-01,\n",
       "        7.76622772e-01,  1.57749176e-01,  3.95202637e-03, -5.19752502e-02,\n",
       "        2.07317352e-01, -2.07908630e-01, -7.60917664e-02,  2.49649048e-01,\n",
       "        2.79312134e-01,  6.02756500e-01,  6.29615784e-01,  4.90585327e-01,\n",
       "        5.64498901e-02,  1.05497360e-01,  6.70066833e-01,  7.64766693e-01,\n",
       "        9.85183716e-02, -6.32724762e-02,  4.13837433e-01,  7.25002289e-02,\n",
       "        2.49919891e-01,  2.56452560e-01,  3.77178192e-02, -6.88896179e-02,\n",
       "        3.48226547e-01,  1.73084259e-01,  4.15485382e-01, -7.25059509e-02,\n",
       "        3.41102600e-01,  1.86920166e-01, -1.54857635e-01,  7.99833298e-01,\n",
       "        2.32425690e-01,  2.37358093e-01,  2.56080627e-01,  1.03448868e-01,\n",
       "        6.20777130e-01,  1.29734039e-01,  3.71461868e-01,  4.83032227e-01,\n",
       "        3.08248520e-01,  1.19436264e-01,  5.48210144e-02,  1.12850189e-01,\n",
       "       -1.62445068e-01, -1.58084869e-01,  7.28950500e-02,  7.76416779e-01,\n",
       "        8.43372345e-02,  6.43045425e-01,  1.21814728e-01,  1.78035736e-01,\n",
       "        3.04882050e-01,  1.85462952e-01,  1.13151169e+00,  3.44499588e-01,\n",
       "        8.26824188e-01,  5.38894653e-01,  2.74398804e-01,  6.29436493e-01,\n",
       "       -6.72397614e-02,  9.63527679e-01,  5.61933517e-01,  2.34375000e-02,\n",
       "        1.05663300e-01,  9.38644409e-02,  8.14914703e-02,  2.92156219e-01,\n",
       "        5.55086136e-01,  6.69059753e-02,  4.25415039e-02,  9.44137573e-04,\n",
       "        1.37664795e-01, -2.18059540e-01,  7.01332092e-02,  1.19871140e-01,\n",
       "        1.92796707e-01, -3.82633209e-02,  1.56021118e-01,  7.12673187e-01,\n",
       "        2.62353897e-01,  5.34812927e-01,  3.97792816e-01, -4.64992523e-02,\n",
       "        2.44050980e-01,  2.06283569e-01,  2.80368805e-01, -1.28311157e-01,\n",
       "        1.19503021e-01,  3.83335114e-01,  1.84337616e-01,  7.28542328e-01,\n",
       "        3.31829071e-01, -1.03290558e-01,  2.39452362e-01,  3.06001663e-01,\n",
       "        6.63125992e-01,  2.21080780e-02,  1.60034180e-01,  5.21598816e-01,\n",
       "       -4.34379578e-02,  7.98435211e-01,  2.21765518e-01,  3.89841080e-01,\n",
       "       -5.63640594e-02,  4.02385712e-01,  2.34199524e-01,  1.20349884e-01,\n",
       "        3.05494308e-01,  7.86239624e-01,  3.32050323e-02,  1.22546196e+00,\n",
       "        8.94607544e-01,  8.18157196e-02, -1.52149200e-02,  1.70989990e-01,\n",
       "       -6.86340332e-02, -1.07833862e-01, -5.02510071e-02,  2.98688889e-01,\n",
       "        3.57116699e-01,  9.58175659e-02,  8.85284424e-01, -3.33652496e-02,\n",
       "        5.99248886e-01,  8.95767212e-02,  9.83886719e-02,  3.54108810e-01,\n",
       "        2.36040115e-01, -6.72569275e-02,  1.44260406e-01,  4.17926788e-01,\n",
       "        5.87444305e-01,  2.16800690e-01, -3.33328247e-02,  1.00631714e+00,\n",
       "        4.25796509e-02, -1.73549652e-02,  2.48336792e-01, -5.93872070e-02,\n",
       "        2.22194672e-01, -7.19299316e-02,  8.46748352e-02,  7.15713501e-02,\n",
       "        3.49178314e-02,  4.43458557e-01,  1.86820984e-01,  1.83176041e-01,\n",
       "        7.56340027e-02,  1.36756897e-02,  1.84671402e-01,  2.32355118e-01,\n",
       "        5.30569077e-01,  1.60314560e-01,  3.95296097e-01, -4.49409485e-02,\n",
       "        8.39279175e-01,  1.66034698e-02, -1.69963837e-02, -2.14138031e-02,\n",
       "        1.46438599e-01,  1.38103485e-01, -3.34453583e-02,  4.14833069e-01,\n",
       "        6.57323837e-01, -4.95910645e-03,  2.86178589e-02,  4.61006165e-02,\n",
       "       -7.22064972e-02,  2.73757935e-01,  5.28625488e-01, -5.90553284e-02,\n",
       "        8.43103409e-01,  3.25853348e-01,  3.18918228e-01,  3.63826752e-02,\n",
       "       -8.52298737e-02,  2.83294678e-01,  3.01292419e-01,  1.37784958e-01,\n",
       "        3.35819244e-01,  4.12460327e-01,  3.75230789e-01,  1.24067307e-01,\n",
       "        2.87857056e-01,  9.06198502e-01,  4.45545197e-01,  2.74814606e-01,\n",
       "       -6.59942627e-03,  6.91823959e-01,  6.71909332e-01,  1.15409851e-01,\n",
       "        7.74566650e-01,  9.94323730e-01,  5.87709427e-01,  3.14271927e-01,\n",
       "        2.26366043e-01, -4.47044373e-02,  2.25975037e-01,  2.30602264e-01,\n",
       "        3.54957581e-01, -1.26579285e-01,  3.52687836e-02,  1.82228088e-01,\n",
       "        2.15324402e-01,  1.76273346e-01, -2.95982361e-02,  1.00045013e+00,\n",
       "        1.88156128e-01,  7.52202988e-01,  6.19773865e-01,  7.17716217e-01,\n",
       "        3.15654755e-01,  2.23693848e-02,  3.26410294e-01, -6.94084167e-03,\n",
       "        2.81578064e-01, -2.27851868e-02,  7.98664093e-02, -2.35557556e-03,\n",
       "        3.57097626e-01,  1.36482239e-01,  2.65783310e-01,  1.39656067e-02,\n",
       "        2.21069336e-01,  7.07433701e-01,  1.59507751e-01,  2.04492569e-01,\n",
       "        5.38219452e-01, -1.52618408e-01,  2.54856110e-01,  2.76420593e-01,\n",
       "        2.63994217e-01,  6.68888092e-02,  9.74334717e-01,  1.99947357e-01,\n",
       "        7.55817413e-01, -3.49655151e-02,  4.87716675e-01,  5.88798523e-03,\n",
       "       -7.24830627e-02,  3.05620193e-01, -2.05066681e-01,  1.91011429e-01,\n",
       "       -2.46047974e-02, -7.71293640e-02,  2.78942108e-01,  7.83958435e-02,\n",
       "        2.33932495e-01,  4.44850922e-01,  6.62574768e-02, -3.31172943e-02,\n",
       "        5.83217621e-01,  5.77964783e-02,  3.20457458e-01,  7.24224091e-01,\n",
       "        1.35353088e-01, -2.21900940e-02,  7.33013153e-01, -3.08292389e-01,\n",
       "        1.09126472e+00,  2.85926819e-01,  8.84994507e-01,  6.96571350e-01,\n",
       "        5.85290909e-01, -2.22492218e-02,  9.52045441e-01,  7.15019226e-01,\n",
       "        4.48488235e-01,  5.80474854e-01,  1.87099457e-01,  2.29637146e-01,\n",
       "       -5.77697754e-02,  3.15206528e-01,  8.74660492e-01, -1.68113708e-02,\n",
       "        2.52521515e-01, -3.35388184e-02, -4.39643860e-02,  4.13436890e-02,\n",
       "        2.35946655e-01,  2.03046799e-01,  8.82024765e-01,  5.87186813e-01,\n",
       "        1.20056152e-01, -2.02579498e-02, -1.93195343e-02,  1.03513718e-01,\n",
       "        8.28170776e-03,  2.29192734e-01, -1.69353485e-02,  7.15332031e-02,\n",
       "        1.62635803e-01,  1.70120239e-01,  2.46603012e-01,  1.47689819e-01,\n",
       "        3.91809464e-01, -6.66313171e-02,  1.15707397e-01,  1.84432983e-01,\n",
       "        9.06772614e-02, -1.79405212e-02,  2.09312439e-01, -1.30462646e-02,\n",
       "        5.46459198e-01,  4.15884018e-01,  1.78150177e-01,  1.71947479e-02,\n",
       "        4.93860245e-01,  1.47130966e-01,  5.24806976e-01,  5.98131180e-01,\n",
       "        3.08214188e-01,  3.09310913e-01,  4.46422577e-01,  1.68144226e-01,\n",
       "        2.60759354e-01,  7.56254196e-01,  4.06246185e-01,  4.90633011e-01,\n",
       "        5.14307022e-01, -1.30214691e-01,  7.90920258e-02,  3.50543976e-01,\n",
       "        1.00472450e+00,  2.73387909e-01,  6.35429382e-01,  5.78641891e-01,\n",
       "        4.68238831e-01,  3.74412537e-03,  3.59037399e-01,  6.74533844e-02,\n",
       "       -4.24022675e-02,  7.03262329e-01,  1.27136230e-01,  8.00125122e-01,\n",
       "        4.70844269e-01, -1.74293518e-02,  2.93579102e-02,  5.55213928e-01,\n",
       "        5.01136780e-02,  1.15203857e-01, -9.71603394e-03,  1.47495270e-01,\n",
       "        4.71233368e-01, -9.27257538e-02,  8.08753967e-02,  3.09867859e-02,\n",
       "        3.94826889e-01,  2.23852158e-01,  1.00329971e+00,  7.08082199e-01,\n",
       "        3.55987549e-01,  2.62981415e-01, -2.83641815e-02, -9.61685181e-03,\n",
       "        3.09085846e-02,  1.41754150e-01,  7.82318115e-02,  5.12620926e-01,\n",
       "        2.04830170e-01,  3.11748505e-01,  5.28537750e-01,  4.61925507e-01,\n",
       "        5.35697937e-02,  8.17237854e-01,  5.33926010e-01, -1.38164520e-01,\n",
       "        5.09368896e-01,  1.94057465e-01,  4.56172943e-01,  1.85232162e-01,\n",
       "        2.21975327e-01,  1.15604401e-01,  6.33392334e-02,  7.37075806e-02,\n",
       "        1.02422714e-01,  5.51389694e-01,  7.02892303e-01,  5.22102356e-01,\n",
       "        5.35114288e-01,  3.20053101e-02,  1.11038208e-01, -1.18686676e-01,\n",
       "        5.31871796e-01, -1.74406052e-01,  4.54477310e-01,  9.74321365e-01,\n",
       "        4.18224335e-01, -1.16024017e-01,  8.70737076e-01,  1.62204742e-01,\n",
       "        6.13063812e-01,  3.17226410e-01, -7.86781311e-02,  4.93972778e-01,\n",
       "        7.44886398e-01,  6.05621338e-02,  6.03466034e-02,  2.36848831e-01,\n",
       "        5.79174042e-01,  1.10671997e-01,  3.81814957e-01,  6.02256775e-01,\n",
       "        5.84373474e-02,  2.21828461e-01,  3.89041901e-01,  6.63837433e-01,\n",
       "        1.56162262e-01,  3.97329330e-01,  5.80089569e-01,  5.03776550e-01,\n",
       "        1.06426239e-01,  1.49808884e-01,  2.33291626e-01, -3.37600708e-03,\n",
       "       -2.86197662e-02,  2.65903473e-01,  2.60511398e-01, -6.16722107e-02,\n",
       "        1.46303177e-01,  8.24777603e-01,  5.68506241e-01, -9.56726074e-02,\n",
       "       -1.02455139e-01,  8.48789215e-02,  1.61661148e-01, -7.92484283e-02,\n",
       "        9.43889618e-01,  7.93781281e-02,  3.38439941e-01,  1.57968521e-01,\n",
       "       -6.94293976e-02,  2.15065002e-01,  4.78899002e-01,  2.15911865e-02,\n",
       "        5.34442902e-01,  1.42559052e-01, -1.58426285e-01,  9.99259949e-03,\n",
       "        2.26713181e-01,  3.34842682e-01,  6.04457855e-02, -2.09140778e-02,\n",
       "       -1.07875824e-01,  3.34247589e-01,  5.10190964e-01,  3.45952988e-01,\n",
       "       -8.66794586e-02, -4.99992371e-02,  5.05285263e-01,  8.22067261e-02,\n",
       "        6.75354004e-02,  3.23074341e-01,  3.38176727e-01,  5.37288666e-01,\n",
       "        2.91831970e-01,  3.30602646e-01, -4.10156250e-02,  8.27432632e-01,\n",
       "        6.03404999e-01,  2.36684799e-01,  7.02344894e-01,  4.44662094e-01,\n",
       "        5.81186295e-01,  1.90011978e-01,  5.44948578e-02,  9.37843323e-02,\n",
       "       -6.77318573e-02,  1.05981827e-01, -2.49481201e-02, -2.94246674e-02,\n",
       "        6.56375885e-02,  9.60712433e-02,  1.03309631e-01,  1.77715302e-01,\n",
       "        1.02069855e-01,  6.64117813e-01,  1.97679520e-01,  1.04694366e-01,\n",
       "        1.13409042e-01, -3.24649811e-02,  1.46585464e-01,  4.64969635e-01,\n",
       "        7.55578995e-01,  2.03956604e-01,  4.90135193e-01, -1.01306915e-01,\n",
       "        6.61628723e-01,  7.53475189e-01,  9.01075363e-01,  7.72968292e-01,\n",
       "        2.73414612e-01,  2.97996521e-01,  1.87093735e-01,  7.19818115e-01,\n",
       "        2.29818344e-01,  3.34613800e-01,  8.51545334e-01,  3.06510925e-02,\n",
       "       -3.69644165e-03, -7.81574249e-02,  7.49858856e-01,  2.04635620e-01,\n",
       "        4.06045914e-01,  3.32330704e-01,  1.81999207e-01,  8.23310852e-01,\n",
       "        5.03250122e-01,  6.34017944e-01, -5.08728027e-02,  4.25395966e-02,\n",
       "        1.11116409e-01,  1.89216614e-01,  6.00944519e-01,  4.09088135e-01,\n",
       "        6.87746048e-01,  2.89932251e-01, -9.20810699e-02,  4.46739197e-02,\n",
       "        1.98944092e-01,  6.18927002e-01,  1.41895294e-01,  6.98907852e-01,\n",
       "        3.11861038e-01,  1.26804352e-01,  8.11510086e-01,  6.24675751e-02,\n",
       "       -1.04385376e-01,  6.59656525e-02,  1.23605728e-01,  5.18724442e-01,\n",
       "       -5.96580505e-02,  6.39732361e-01, -1.29928589e-02,  3.84750366e-02,\n",
       "       -1.04930878e-01,  1.96548462e-01,  3.36147308e-01,  4.87945557e-01,\n",
       "        1.93840027e-01,  7.93239594e-01,  1.69416428e-01,  8.55751038e-02,\n",
       "        1.68628693e-01,  1.73171997e-01,  3.23982239e-02,  4.69268799e-01,\n",
       "        2.03086853e-01,  8.46635818e-01,  4.20907974e-01,  2.17947006e-01,\n",
       "        1.81129456e-01,  1.54855728e-01,  7.26316452e-01,  4.45247650e-01,\n",
       "        4.87506866e-01,  1.01640701e-01,  4.13135529e-01, -1.13224030e-01,\n",
       "        1.79416656e-01, -9.74845886e-03,  1.39093399e-01,  1.11988068e-01,\n",
       "        6.09592438e-01,  2.16178894e-02,  1.88301086e-01, -1.35349274e-01,\n",
       "        7.06459045e-01,  4.33162689e-01, -5.83038330e-02,  9.28647995e-01,\n",
       "        5.40636063e-01, -1.72615051e-03,  9.19002533e-01, -2.19116211e-02,\n",
       "        1.65433884e-01,  1.77831650e-01,  4.72858429e-01, -2.84957886e-03,\n",
       "        4.00400162e-01,  1.41811371e-02,  1.95259094e-01, -6.80027008e-02,\n",
       "        5.87240219e-01,  1.92510605e-01,  2.33367920e-01,  2.73666382e-01,\n",
       "        9.40723419e-01,  7.10115433e-01,  1.33346558e-01,  7.37705231e-02,\n",
       "        5.58834076e-02, -2.26390839e-01,  4.11109924e-02,  5.17272949e-02,\n",
       "        3.10440063e-02,  2.93613434e-01,  9.69263077e-01,  7.98740387e-01,\n",
       "       -2.29721069e-02,  5.26542664e-02,  2.64883041e-01,  1.75182343e-01,\n",
       "        7.06319809e-01,  1.73889160e-01,  3.44324112e-01])"
      ]
     },
     "execution_count": 22,
     "metadata": {},
     "output_type": "execute_result"
    }
   ],
   "source": [
    "predictions = LinearReg.predict(x_test)\n",
    "##x = np.asanyarray(x_test)\n",
    "##y = np.asanyarray(y_test)\n",
    "predictions"
   ]
  },
  {
   "cell_type": "markdown",
   "metadata": {},
   "source": [
    "#### Q4) Using the `predictions` and the `y_test` dataframe calculate the value for each metric using the appropriate function.\n"
   ]
  },
  {
   "cell_type": "code",
   "execution_count": 25,
   "metadata": {},
   "outputs": [],
   "source": [
    "#Enter Your Code, Execute and take the Screenshot\n",
    "from sklearn.metrics import r2_score"
   ]
  },
  {
   "cell_type": "code",
   "execution_count": 42,
   "metadata": {},
   "outputs": [],
   "source": [
    "LinearRegression_MAE = np.mean(np.absolute(predictions - y_test))\n",
    "LinearRegression_MSE = np.mean((predictions - y_test) ** 2)\n",
    "LinearRegression_R2 = r2_score(y_test , predictions)"
   ]
  },
  {
   "cell_type": "markdown",
   "metadata": {},
   "source": [
    "#### Q5) Show the MAE, MSE, and R2 in a tabular format using data frame for the linear model.\n"
   ]
  },
  {
   "cell_type": "code",
   "execution_count": null,
   "metadata": {},
   "outputs": [],
   "source": [
    "#Enter Your Code, Execute and take the Screenshot"
   ]
  },
  {
   "cell_type": "code",
   "execution_count": 52,
   "metadata": {},
   "outputs": [
    {
     "data": {
      "text/html": [
       "<div>\n",
       "<style scoped>\n",
       "    .dataframe tbody tr th:only-of-type {\n",
       "        vertical-align: middle;\n",
       "    }\n",
       "\n",
       "    .dataframe tbody tr th {\n",
       "        vertical-align: top;\n",
       "    }\n",
       "\n",
       "    .dataframe thead th {\n",
       "        text-align: right;\n",
       "    }\n",
       "</style>\n",
       "<table border=\"1\" class=\"dataframe\">\n",
       "  <thead>\n",
       "    <tr style=\"text-align: right;\">\n",
       "      <th></th>\n",
       "      <th>0</th>\n",
       "    </tr>\n",
       "  </thead>\n",
       "  <tbody>\n",
       "    <tr>\n",
       "      <th>0</th>\n",
       "      <td>0.256319</td>\n",
       "    </tr>\n",
       "    <tr>\n",
       "      <th>1</th>\n",
       "      <td>0.115720</td>\n",
       "    </tr>\n",
       "    <tr>\n",
       "      <th>2</th>\n",
       "      <td>0.427133</td>\n",
       "    </tr>\n",
       "  </tbody>\n",
       "</table>\n",
       "</div>"
      ],
      "text/plain": [
       "          0\n",
       "0  0.256319\n",
       "1  0.115720\n",
       "2  0.427133"
      ]
     },
     "execution_count": 52,
     "metadata": {},
     "output_type": "execute_result"
    }
   ],
   "source": [
    "##d = {'LinearRegression_MAE': LinearRegression_MAE, 'LinearRegression_MSE': LinearRegression_MSE, 'LinearRegression_R2': LinearRegression_R2}\n",
    "##d\n",
    "Report = pd.DataFrame(data=[[LinearRegression_MAE],[LinearRegression_MSE],[LinearRegression_R2]])\n",
    "Report"
   ]
  },
  {
   "cell_type": "markdown",
   "metadata": {},
   "source": [
    "### KNN\n"
   ]
  },
  {
   "cell_type": "markdown",
   "metadata": {},
   "source": [
    "#### Q6) Create and train a KNN model called KNN using the training data (`x_train`, `y_train`) with the `n_neighbors` parameter set to `4`.\n"
   ]
  },
  {
   "cell_type": "code",
   "execution_count": null,
   "metadata": {},
   "outputs": [],
   "source": [
    "#Enter Your Code Below, Execute, and Save the Screenshot of the Final Output"
   ]
  },
  {
   "cell_type": "code",
   "execution_count": 53,
   "metadata": {},
   "outputs": [
    {
     "data": {
      "text/plain": [
       "KNeighborsClassifier(n_neighbors=4)"
      ]
     },
     "execution_count": 53,
     "metadata": {},
     "output_type": "execute_result"
    }
   ],
   "source": [
    "k = 4\n",
    "#Train Model and Predict  \n",
    "KNN = KNeighborsClassifier(n_neighbors = k).fit(x_train,y_train)\n",
    "KNN"
   ]
  },
  {
   "cell_type": "markdown",
   "metadata": {},
   "source": [
    "#### Q7) Now use the `predict` method on the testing data (`x_test`) and save it to the array `predictions`.\n"
   ]
  },
  {
   "cell_type": "code",
   "execution_count": null,
   "metadata": {},
   "outputs": [],
   "source": [
    "#Enter Your Code Below, Execute, and Save the Screenshot of the Final Output"
   ]
  },
  {
   "cell_type": "code",
   "execution_count": 54,
   "metadata": {},
   "outputs": [],
   "source": [
    "predictions = KNN.predict(x_test)"
   ]
  },
  {
   "cell_type": "markdown",
   "metadata": {},
   "source": [
    "#### Q8) Using the `predictions` and the `y_test` dataframe calculate the value for each metric using the appropriate function.\n"
   ]
  },
  {
   "cell_type": "code",
   "execution_count": null,
   "metadata": {},
   "outputs": [],
   "source": [
    "#Enter Your Code Below, Execute, and Save the Screenshot of the Final Output"
   ]
  },
  {
   "cell_type": "code",
   "execution_count": 60,
   "metadata": {},
   "outputs": [],
   "source": [
    "KNN_Accuracy_Score = metrics.accuracy_score(y_test, predictions)\n",
    "KNN_JaccardIndex = metrics.jaccard_score(y_test, predictions)\n",
    "KNN_F1_Score = metrics.f1_score(y_test, predictions)"
   ]
  },
  {
   "cell_type": "code",
   "execution_count": 61,
   "metadata": {},
   "outputs": [
    {
     "data": {
      "text/html": [
       "<div>\n",
       "<style scoped>\n",
       "    .dataframe tbody tr th:only-of-type {\n",
       "        vertical-align: middle;\n",
       "    }\n",
       "\n",
       "    .dataframe tbody tr th {\n",
       "        vertical-align: top;\n",
       "    }\n",
       "\n",
       "    .dataframe thead th {\n",
       "        text-align: right;\n",
       "    }\n",
       "</style>\n",
       "<table border=\"1\" class=\"dataframe\">\n",
       "  <thead>\n",
       "    <tr style=\"text-align: right;\">\n",
       "      <th></th>\n",
       "      <th>0</th>\n",
       "    </tr>\n",
       "  </thead>\n",
       "  <tbody>\n",
       "    <tr>\n",
       "      <th>0</th>\n",
       "      <td>0.818321</td>\n",
       "    </tr>\n",
       "    <tr>\n",
       "      <th>1</th>\n",
       "      <td>0.425121</td>\n",
       "    </tr>\n",
       "    <tr>\n",
       "      <th>2</th>\n",
       "      <td>0.596610</td>\n",
       "    </tr>\n",
       "  </tbody>\n",
       "</table>\n",
       "</div>"
      ],
      "text/plain": [
       "          0\n",
       "0  0.818321\n",
       "1  0.425121\n",
       "2  0.596610"
      ]
     },
     "execution_count": 61,
     "metadata": {},
     "output_type": "execute_result"
    }
   ],
   "source": [
    "Report = pd.DataFrame(data=[[KNN_Accuracy_Score],[KNN_JaccardIndex],[KNN_F1_Score]])\n",
    "Report"
   ]
  },
  {
   "cell_type": "markdown",
   "metadata": {},
   "source": [
    "### Decision Tree\n"
   ]
  },
  {
   "cell_type": "markdown",
   "metadata": {},
   "source": [
    "#### Q9) Create and train a Decision Tree model called Tree using the training data (`x_train`, `y_train`).\n"
   ]
  },
  {
   "cell_type": "code",
   "execution_count": null,
   "metadata": {},
   "outputs": [],
   "source": [
    "#Enter Your Code, Execute and take the Screenshot"
   ]
  },
  {
   "cell_type": "code",
   "execution_count": 63,
   "metadata": {},
   "outputs": [
    {
     "data": {
      "text/plain": [
       "DecisionTreeClassifier(criterion='entropy', max_depth=4)"
      ]
     },
     "execution_count": 63,
     "metadata": {},
     "output_type": "execute_result"
    }
   ],
   "source": [
    "Tree = DecisionTreeClassifier(criterion=\"entropy\", max_depth = 4)\n",
    "Tree.fit(x_train, y_train)"
   ]
  },
  {
   "cell_type": "markdown",
   "metadata": {},
   "source": [
    "#### Q10) Now use the `predict` method on the testing data (`x_test`) and save it to the array `predictions`.\n"
   ]
  },
  {
   "cell_type": "code",
   "execution_count": null,
   "metadata": {},
   "outputs": [],
   "source": [
    "#Enter Your Code, Execute and take the Screenshot"
   ]
  },
  {
   "cell_type": "code",
   "execution_count": 64,
   "metadata": {},
   "outputs": [],
   "source": [
    "predictions = Tree.predict(x_test)"
   ]
  },
  {
   "cell_type": "markdown",
   "metadata": {},
   "source": [
    "#### Q11) Using the `predictions` and the `y_test` dataframe calculate the value for each metric using the appropriate function.\n"
   ]
  },
  {
   "cell_type": "code",
   "execution_count": null,
   "metadata": {},
   "outputs": [],
   "source": [
    "#Enter Your Code, Execute and take the Screenshot"
   ]
  },
  {
   "cell_type": "code",
   "execution_count": 65,
   "metadata": {},
   "outputs": [],
   "source": [
    "Tree_Accuracy_Score = metrics.accuracy_score(y_test, predictions)\n",
    "Tree_JaccardIndex = metrics.jaccard_score(y_test, predictions)\n",
    "Tree_F1_Score = metrics.f1_score(y_test, predictions)"
   ]
  },
  {
   "cell_type": "code",
   "execution_count": 67,
   "metadata": {},
   "outputs": [
    {
     "data": {
      "text/html": [
       "<div>\n",
       "<style scoped>\n",
       "    .dataframe tbody tr th:only-of-type {\n",
       "        vertical-align: middle;\n",
       "    }\n",
       "\n",
       "    .dataframe tbody tr th {\n",
       "        vertical-align: top;\n",
       "    }\n",
       "\n",
       "    .dataframe thead th {\n",
       "        text-align: right;\n",
       "    }\n",
       "</style>\n",
       "<table border=\"1\" class=\"dataframe\">\n",
       "  <thead>\n",
       "    <tr style=\"text-align: right;\">\n",
       "      <th></th>\n",
       "      <th>0</th>\n",
       "    </tr>\n",
       "  </thead>\n",
       "  <tbody>\n",
       "    <tr>\n",
       "      <th>0</th>\n",
       "      <td>0.818321</td>\n",
       "    </tr>\n",
       "    <tr>\n",
       "      <th>1</th>\n",
       "      <td>0.480349</td>\n",
       "    </tr>\n",
       "    <tr>\n",
       "      <th>2</th>\n",
       "      <td>0.648968</td>\n",
       "    </tr>\n",
       "  </tbody>\n",
       "</table>\n",
       "</div>"
      ],
      "text/plain": [
       "          0\n",
       "0  0.818321\n",
       "1  0.480349\n",
       "2  0.648968"
      ]
     },
     "execution_count": 67,
     "metadata": {},
     "output_type": "execute_result"
    }
   ],
   "source": [
    "Report = pd.DataFrame(data=[[Tree_Accuracy_Score],[Tree_JaccardIndex],[Tree_F1_Score]])\n",
    "Report"
   ]
  },
  {
   "cell_type": "code",
   "execution_count": 75,
   "metadata": {},
   "outputs": [
    {
     "data": {
      "image/png": "[encoded data removed]",
      "text/plain": [
       "<pyolite.display.Image at 0x67c96c0>"
      ]
     },
     "metadata": {},
     "output_type": "display_data"
    }
   ],
   "source": [
    "import sklearn.tree as tree\n",
    "import matplotlib.pyplot as plt\n",
    "\n",
    "##tree.plot_tree(Tree)\n",
    "plt.figure(figsize=(12,12))  # set plot size (denoted in inches)\n",
    "tree.plot_tree(Tree, fontsize=10)\n",
    "plt.show()"
   ]
  },
  {
   "cell_type": "markdown",
   "metadata": {},
   "source": [
    "### Logistic Regression\n"
   ]
  },
  {
   "cell_type": "markdown",
   "metadata": {},
   "source": [
    "#### Q12) Use the `train_test_split` function to split the `features` and `Y` dataframes with a `test_size` of `0.2` and the `random_state` set to `1`.\n"
   ]
  },
  {
   "cell_type": "code",
   "execution_count": null,
   "metadata": {},
   "outputs": [],
   "source": [
    "#Enter Your Code, Execute and take the Screenshot"
   ]
  },
  {
   "cell_type": "code",
   "execution_count": null,
   "metadata": {},
   "outputs": [],
   "source": [
    "x_train, x_test, y_train, y_test = train_test_split(features, Y, test_size = 0.2, random_state = 1)"
   ]
  },
  {
   "cell_type": "markdown",
   "metadata": {},
   "source": [
    "#### Q13) Create and train a LogisticRegression model called LR using the training data (`x_train`, `y_train`) with the `solver` parameter set to `liblinear`.\n"
   ]
  },
  {
   "cell_type": "code",
   "execution_count": null,
   "metadata": {},
   "outputs": [],
   "source": [
    "#Enter Your Code, Execute and take the Screenshot"
   ]
  },
  {
   "cell_type": "code",
   "execution_count": 76,
   "metadata": {},
   "outputs": [],
   "source": [
    "LR = LogisticRegression(solver='liblinear').fit(x_train,y_train)"
   ]
  },
  {
   "cell_type": "markdown",
   "metadata": {},
   "source": [
    "#### Q14) Now, use the `predict` method on the testing data (`x_test`) and save it to the array `predictions`.\n"
   ]
  },
  {
   "cell_type": "code",
   "execution_count": null,
   "metadata": {},
   "outputs": [],
   "source": [
    "#Enter Your Code, Execute and take the Screenshot"
   ]
  },
  {
   "cell_type": "code",
   "execution_count": 77,
   "metadata": {},
   "outputs": [],
   "source": [
    "predictions = LR.predict(x_test)"
   ]
  },
  {
   "cell_type": "markdown",
   "metadata": {},
   "source": [
    "#### Q15) Using the `predictions` and the `y_test` dataframe calculate the value for each metric using the appropriate function.\n"
   ]
  },
  {
   "cell_type": "code",
   "execution_count": null,
   "metadata": {},
   "outputs": [],
   "source": [
    "#Enter Your Code, Execute and take the Screenshot"
   ]
  },
  {
   "cell_type": "code",
   "execution_count": 78,
   "metadata": {},
   "outputs": [],
   "source": [
    "LR_Accuracy_Score = metrics.accuracy_score(y_test, predictions)\n",
    "LR_JaccardIndex = metrics.jaccard_score(y_test, predictions)\n",
    "LR_F1_Score = metrics.f1_score(y_test, predictions)\n",
    "LR_Log_Loss = log_loss(y_test, LR.predict_proba(x_test))"
   ]
  },
  {
   "cell_type": "code",
   "execution_count": 79,
   "metadata": {},
   "outputs": [
    {
     "data": {
      "text/html": [
       "<div>\n",
       "<style scoped>\n",
       "    .dataframe tbody tr th:only-of-type {\n",
       "        vertical-align: middle;\n",
       "    }\n",
       "\n",
       "    .dataframe tbody tr th {\n",
       "        vertical-align: top;\n",
       "    }\n",
       "\n",
       "    .dataframe thead th {\n",
       "        text-align: right;\n",
       "    }\n",
       "</style>\n",
       "<table border=\"1\" class=\"dataframe\">\n",
       "  <thead>\n",
       "    <tr style=\"text-align: right;\">\n",
       "      <th></th>\n",
       "      <th>0</th>\n",
       "    </tr>\n",
       "  </thead>\n",
       "  <tbody>\n",
       "    <tr>\n",
       "      <th>0</th>\n",
       "      <td>0.836641</td>\n",
       "    </tr>\n",
       "    <tr>\n",
       "      <th>1</th>\n",
       "      <td>0.518018</td>\n",
       "    </tr>\n",
       "    <tr>\n",
       "      <th>2</th>\n",
       "      <td>0.682493</td>\n",
       "    </tr>\n",
       "    <tr>\n",
       "      <th>3</th>\n",
       "      <td>0.357699</td>\n",
       "    </tr>\n",
       "  </tbody>\n",
       "</table>\n",
       "</div>"
      ],
      "text/plain": [
       "          0\n",
       "0  0.836641\n",
       "1  0.518018\n",
       "2  0.682493\n",
       "3  0.357699"
      ]
     },
     "execution_count": 79,
     "metadata": {},
     "output_type": "execute_result"
    }
   ],
   "source": [
    "Report = pd.DataFrame(data=[[LR_Accuracy_Score],[LR_JaccardIndex],[LR_F1_Score],[LR_Log_Loss]])\n",
    "Report"
   ]
  },
  {
   "cell_type": "markdown",
   "metadata": {},
   "source": [
    "### SVM\n"
   ]
  },
  {
   "cell_type": "markdown",
   "metadata": {},
   "source": [
    "#### Q16) Create and train a SVM model called SVM using the training data (`x_train`, `y_train`).\n"
   ]
  },
  {
   "cell_type": "code",
   "execution_count": null,
   "metadata": {},
   "outputs": [],
   "source": [
    "#Enter Your Code Below, Execute, and Save the Screenshot of the Final Output"
   ]
  },
  {
   "cell_type": "code",
   "execution_count": 86,
   "metadata": {},
   "outputs": [
    {
     "data": {
      "text/plain": [
       "SVC()"
      ]
     },
     "execution_count": 86,
     "metadata": {},
     "output_type": "execute_result"
    }
   ],
   "source": [
    "SVM = svm.SVC(kernel='rbf')\n",
    "SVM.fit(x_train,y_train)"
   ]
  },
  {
   "cell_type": "markdown",
   "metadata": {},
   "source": [
    "#### Q17) Now use the `predict` method on the testing data (`x_test`) and save it to the array `predictions`.\n"
   ]
  },
  {
   "cell_type": "code",
   "execution_count": null,
   "metadata": {},
   "outputs": [],
   "source": [
    "#Enter Your Code Below, Execute, and Save the Screenshot of the Final Output"
   ]
  },
  {
   "cell_type": "code",
   "execution_count": 90,
   "metadata": {},
   "outputs": [
    {
     "data": {
      "text/plain": [
       "array([0., 0., 0., 0., 0., 0., 0., 0., 0., 0., 0., 0., 0., 0., 0., 0., 0.,\n",
       "       0., 0., 0., 0., 0., 0., 0., 0., 0., 0., 0., 0., 0., 0., 0., 0., 0.,\n",
       "       0., 0., 0., 0., 0., 0., 0., 0., 0., 0., 0., 0., 0., 0., 0., 0., 0.,\n",
       "       0., 0., 0., 0., 0., 0., 0., 0., 0., 0., 0., 0., 0., 0., 0., 0., 0.,\n",
       "       0., 0., 0., 0., 0., 0., 0., 0., 0., 0., 0., 0., 0., 0., 0., 0., 0.,\n",
       "       0., 0., 0., 0., 0., 0., 0., 0., 0., 0., 0., 0., 0., 0., 0., 0., 0.,\n",
       "       0., 0., 0., 0., 0., 0., 0., 0., 0., 0., 0., 0., 0., 0., 0., 0., 0.,\n",
       "       0., 0., 0., 0., 0., 0., 0., 0., 0., 0., 0., 0., 0., 0., 0., 0., 0.,\n",
       "       0., 0., 0., 0., 0., 0., 0., 0., 0., 0., 0., 0., 0., 0., 0., 0., 0.,\n",
       "       0., 0., 0., 0., 0., 0., 0., 0., 0., 0., 0., 0., 0., 0., 0., 0., 0.,\n",
       "       0., 0., 0., 0., 0., 0., 0., 0., 0., 0., 0., 0., 0., 0., 0., 0., 0.,\n",
       "       0., 0., 0., 0., 0., 0., 0., 0., 0., 0., 0., 0., 0., 0., 0., 0., 0.,\n",
       "       0., 0., 0., 0., 0., 0., 0., 0., 0., 0., 0., 0., 0., 0., 0., 0., 0.,\n",
       "       0., 0., 0., 0., 0., 0., 0., 0., 0., 0., 0., 0., 0., 0., 0., 0., 0.,\n",
       "       0., 0., 0., 0., 0., 0., 0., 0., 0., 0., 0., 0., 0., 0., 0., 0., 0.,\n",
       "       0., 0., 0., 0., 0., 0., 0., 0., 0., 0., 0., 0., 0., 0., 0., 0., 0.,\n",
       "       0., 0., 0., 0., 0., 0., 0., 0., 0., 0., 0., 0., 0., 0., 0., 0., 0.,\n",
       "       0., 0., 0., 0., 0., 0., 0., 0., 0., 0., 0., 0., 0., 0., 0., 0., 0.,\n",
       "       0., 0., 0., 0., 0., 0., 0., 0., 0., 0., 0., 0., 0., 0., 0., 0., 0.,\n",
       "       0., 0., 0., 0., 0., 0., 0., 0., 0., 0., 0., 0., 0., 0., 0., 0., 0.,\n",
       "       0., 0., 0., 0., 0., 0., 0., 0., 0., 0., 0., 0., 0., 0., 0., 0., 0.,\n",
       "       0., 0., 0., 0., 0., 0., 0., 0., 0., 0., 0., 0., 0., 0., 0., 0., 0.,\n",
       "       0., 0., 0., 0., 0., 0., 0., 0., 0., 0., 0., 0., 0., 0., 0., 0., 0.,\n",
       "       0., 0., 0., 0., 0., 0., 0., 0., 0., 0., 0., 0., 0., 0., 0., 0., 0.,\n",
       "       0., 0., 0., 0., 0., 0., 0., 0., 0., 0., 0., 0., 0., 0., 0., 0., 0.,\n",
       "       0., 0., 0., 0., 0., 0., 0., 0., 0., 0., 0., 0., 0., 0., 0., 0., 0.,\n",
       "       0., 0., 0., 0., 0., 0., 0., 0., 0., 0., 0., 0., 0., 0., 0., 0., 0.,\n",
       "       0., 0., 0., 0., 0., 0., 0., 0., 0., 0., 0., 0., 0., 0., 0., 0., 0.,\n",
       "       0., 0., 0., 0., 0., 0., 0., 0., 0., 0., 0., 0., 0., 0., 0., 0., 0.,\n",
       "       0., 0., 0., 0., 0., 0., 0., 0., 0., 0., 0., 0., 0., 0., 0., 0., 0.,\n",
       "       0., 0., 0., 0., 0., 0., 0., 0., 0., 0., 0., 0., 0., 0., 0., 0., 0.,\n",
       "       0., 0., 0., 0., 0., 0., 0., 0., 0., 0., 0., 0., 0., 0., 0., 0., 0.,\n",
       "       0., 0., 0., 0., 0., 0., 0., 0., 0., 0., 0., 0., 0., 0., 0., 0., 0.,\n",
       "       0., 0., 0., 0., 0., 0., 0., 0., 0., 0., 0., 0., 0., 0., 0., 0., 0.,\n",
       "       0., 0., 0., 0., 0., 0., 0., 0., 0., 0., 0., 0., 0., 0., 0., 0., 0.,\n",
       "       0., 0., 0., 0., 0., 0., 0., 0., 0., 0., 0., 0., 0., 0., 0., 0., 0.,\n",
       "       0., 0., 0., 0., 0., 0., 0., 0., 0., 0., 0., 0., 0., 0., 0., 0., 0.,\n",
       "       0., 0., 0., 0., 0., 0., 0., 0., 0., 0., 0., 0., 0., 0., 0., 0., 0.,\n",
       "       0., 0., 0., 0., 0., 0., 0., 0., 0.])"
      ]
     },
     "execution_count": 90,
     "metadata": {},
     "output_type": "execute_result"
    }
   ],
   "source": [
    "predictions = SVM.predict(x_test)\n",
    "predictions"
   ]
  },
  {
   "cell_type": "markdown",
   "metadata": {},
   "source": [
    "#### Q18) Using the `predictions` and the `y_test` dataframe calculate the value for each metric using the appropriate function.\n"
   ]
  },
  {
   "cell_type": "code",
   "execution_count": 88,
   "metadata": {},
   "outputs": [],
   "source": [
    "SVM_Accuracy_Score = metrics.accuracy_score(y_test, predictions)\n",
    "SVM_JaccardIndex = metrics.jaccard_score(y_test, predictions)\n",
    "SVM_F1_Score = metrics.f1_score(y_test, predictions)"
   ]
  },
  {
   "cell_type": "code",
   "execution_count": 89,
   "metadata": {},
   "outputs": [
    {
     "data": {
      "text/html": [
       "<div>\n",
       "<style scoped>\n",
       "    .dataframe tbody tr th:only-of-type {\n",
       "        vertical-align: middle;\n",
       "    }\n",
       "\n",
       "    .dataframe tbody tr th {\n",
       "        vertical-align: top;\n",
       "    }\n",
       "\n",
       "    .dataframe thead th {\n",
       "        text-align: right;\n",
       "    }\n",
       "</style>\n",
       "<table border=\"1\" class=\"dataframe\">\n",
       "  <thead>\n",
       "    <tr style=\"text-align: right;\">\n",
       "      <th></th>\n",
       "      <th>0</th>\n",
       "    </tr>\n",
       "  </thead>\n",
       "  <tbody>\n",
       "    <tr>\n",
       "      <th>0</th>\n",
       "      <td>0.719084</td>\n",
       "    </tr>\n",
       "    <tr>\n",
       "      <th>1</th>\n",
       "      <td>0.000000</td>\n",
       "    </tr>\n",
       "    <tr>\n",
       "      <th>2</th>\n",
       "      <td>0.000000</td>\n",
       "    </tr>\n",
       "  </tbody>\n",
       "</table>\n",
       "</div>"
      ],
      "text/plain": [
       "          0\n",
       "0  0.719084\n",
       "1  0.000000\n",
       "2  0.000000"
      ]
     },
     "execution_count": 89,
     "metadata": {},
     "output_type": "execute_result"
    }
   ],
   "source": [
    "Report = pd.DataFrame(data=[[SVM_Accuracy_Score],[SVM_JaccardIndex],[SVM_F1_Score]])\n",
    "Report"
   ]
  },
  {
   "cell_type": "markdown",
   "metadata": {},
   "source": [
    "### Report\n"
   ]
  },
  {
   "cell_type": "markdown",
   "metadata": {},
   "source": [
    "#### Q19) Show the Accuracy,Jaccard Index,F1-Score and LogLoss in a tabular format using data frame for all of the above models.\n",
    "\n",
    "\\*LogLoss is only for Logistic Regression Model\n"
   ]
  },
  {
   "cell_type": "code",
   "execution_count": 101,
   "metadata": {},
   "outputs": [
    {
     "data": {
      "text/html": [
       "<div>\n",
       "<style scoped>\n",
       "    .dataframe tbody tr th:only-of-type {\n",
       "        vertical-align: middle;\n",
       "    }\n",
       "\n",
       "    .dataframe tbody tr th {\n",
       "        vertical-align: top;\n",
       "    }\n",
       "\n",
       "    .dataframe thead th {\n",
       "        text-align: right;\n",
       "    }\n",
       "</style>\n",
       "<table border=\"1\" class=\"dataframe\">\n",
       "  <thead>\n",
       "    <tr style=\"text-align: right;\">\n",
       "      <th></th>\n",
       "      <th>Error Type</th>\n",
       "      <th>Linear_Regression</th>\n",
       "      <th>KNN</th>\n",
       "      <th>Decission_Tree</th>\n",
       "      <th>LR</th>\n",
       "      <th>SVM</th>\n",
       "    </tr>\n",
       "  </thead>\n",
       "  <tbody>\n",
       "    <tr>\n",
       "      <th>0</th>\n",
       "      <td>AS</td>\n",
       "      <td>0.256319</td>\n",
       "      <td>0.818321</td>\n",
       "      <td>0.818321</td>\n",
       "      <td>0.836641</td>\n",
       "      <td>0.719084</td>\n",
       "    </tr>\n",
       "    <tr>\n",
       "      <th>1</th>\n",
       "      <td>JI</td>\n",
       "      <td>0.115720</td>\n",
       "      <td>0.425121</td>\n",
       "      <td>0.480349</td>\n",
       "      <td>0.518018</td>\n",
       "      <td>0.000000</td>\n",
       "    </tr>\n",
       "    <tr>\n",
       "      <th>2</th>\n",
       "      <td>F1</td>\n",
       "      <td>0.427133</td>\n",
       "      <td>0.596610</td>\n",
       "      <td>0.648968</td>\n",
       "      <td>0.682493</td>\n",
       "      <td>0.000000</td>\n",
       "    </tr>\n",
       "    <tr>\n",
       "      <th>3</th>\n",
       "      <td>LogLoss</td>\n",
       "      <td>0.000000</td>\n",
       "      <td>0.000000</td>\n",
       "      <td>0.000000</td>\n",
       "      <td>0.357699</td>\n",
       "      <td>0.000000</td>\n",
       "    </tr>\n",
       "  </tbody>\n",
       "</table>\n",
       "</div>"
      ],
      "text/plain": [
       "  Error Type  Linear_Regression       KNN  Decission_Tree        LR       SVM\n",
       "0         AS           0.256319  0.818321        0.818321  0.836641  0.719084\n",
       "1         JI           0.115720  0.425121        0.480349  0.518018  0.000000\n",
       "2         F1           0.427133  0.596610        0.648968  0.682493  0.000000\n",
       "3    LogLoss           0.000000  0.000000        0.000000  0.357699  0.000000"
      ]
     },
     "execution_count": 101,
     "metadata": {},
     "output_type": "execute_result"
    }
   ],
   "source": [
    "d = {'Error Type' : ['AS','JI','F1','LogLoss'], 'Linear_Regression' : [LinearRegression_MAE,LinearRegression_MSE,LinearRegression_R2, 0], 'KNN' : [KNN_Accuracy_Score,KNN_JaccardIndex,KNN_F1_Score, 0], 'Decission_Tree' : [Tree_Accuracy_Score,Tree_JaccardIndex,Tree_F1_Score, 0], 'LR' : [LR_Accuracy_Score,LR_JaccardIndex,LR_F1_Score,LR_Log_Loss], 'SVM' : [SVM_Accuracy_Score,SVM_JaccardIndex,SVM_F1_Score, 0]}\n",
    "Report = pd.DataFrame(data=d)\n",
    "Report"
   ]
  },
  {
   "cell_type": "markdown",
   "metadata": {},
   "source": [
    "<h2 id=\"Section_5\">  How to submit </h2>\n",
    "\n",
    "<p>Once you complete your notebook you will have to share it. You can download the notebook by navigating to \"File\" and clicking on \"Download\" button.\n",
    "\n",
    "<p>This will save the (.ipynb) file on your computer. Once saved, you can upload this file in the \"My Submission\" tab, of the \"Peer-graded Assignment\" section.  \n"
   ]
  },
  {
   "cell_type": "markdown",
   "metadata": {},
   "source": [
    "<h2>About the Authors:</h2> \n",
    "\n",
    "<a href=\"https://www.linkedin.com/in/joseph-s-50398b136/?utm_medium=Exinfluencer&utm_source=Exinfluencer&utm_content=000026UJ&utm_term=10006555&utm_id=NA-SkillsNetwork-Channel-SkillsNetworkCoursesIBMDeveloperSkillsNetworkML0101ENSkillsNetwork20718538-2022-01-01\">Joseph Santarcangelo</a> has a PhD in Electrical Engineering, his research focused on using machine learning, signal processing, and computer vision to determine how videos impact human cognition. Joseph has been working for IBM since he completed his PhD.\n",
    "\n",
    "### Other Contributors\n",
    "\n",
    "[Svitlana Kramar](https://www.linkedin.com/in/svitlana-kramar/?utm_medium=Exinfluencer&utm_source=Exinfluencer&utm_content=000026UJ&utm_term=10006555&utm_id=NA-SkillsNetwork-Channel-SkillsNetworkCoursesIBMML0232ENSkillsNetwork30654641-2022-01-01)\n"
   ]
  },
  {
   "cell_type": "markdown",
   "metadata": {},
   "source": [
    "## Change Log\n",
    "\n",
    "| Date (YYYY-MM-DD) | Version | Changed By  | Change Description          |\n",
    "| ----------------- | ------- | ----------- | --------------------------- |\n",
    "| 2022-06-22        | 2.0     | Svitlana K. | Deleted GridSearch and Mock |\n",
    "\n",
    "## <h3 align=\"center\"> © IBM Corporation 2020. All rights reserved. <h3/>\n"
   ]
  }
 ],
 "metadata": {
  "kernelspec": {
   "display_name": "Python 3 (ipykernel)",
   "language": "python",
   "name": "python3"
  },
  "language_info": {
   "codemirror_mode": {
    "name": "ipython",
    "version": 3
   },
   "file_extension": ".py",
   "mimetype": "text/x-python",
   "name": "python",
   "nbconvert_exporter": "python",
   "pygments_lexer": "ipython3",
   "version": "3.9.13"
  }
 },
 "nbformat": 4,
 "nbformat_minor": 4
}
